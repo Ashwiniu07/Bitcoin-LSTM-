{
 "cells": [
  {
   "cell_type": "code",
   "execution_count": 3,
   "metadata": {},
   "outputs": [
    {
     "name": "stderr",
     "output_type": "stream",
     "text": [
      "Using TensorFlow backend.\n",
      "/srv/conda/envs/notebook/lib/python3.7/site-packages/tensorflow/python/framework/dtypes.py:526: FutureWarning: Passing (type, 1) or '1type' as a synonym of type is deprecated; in a future version of numpy, it will be understood as (type, (1,)) / '(1,)type'.\n",
      "  _np_qint8 = np.dtype([(\"qint8\", np.int8, 1)])\n",
      "/srv/conda/envs/notebook/lib/python3.7/site-packages/tensorflow/python/framework/dtypes.py:527: FutureWarning: Passing (type, 1) or '1type' as a synonym of type is deprecated; in a future version of numpy, it will be understood as (type, (1,)) / '(1,)type'.\n",
      "  _np_quint8 = np.dtype([(\"quint8\", np.uint8, 1)])\n",
      "/srv/conda/envs/notebook/lib/python3.7/site-packages/tensorflow/python/framework/dtypes.py:528: FutureWarning: Passing (type, 1) or '1type' as a synonym of type is deprecated; in a future version of numpy, it will be understood as (type, (1,)) / '(1,)type'.\n",
      "  _np_qint16 = np.dtype([(\"qint16\", np.int16, 1)])\n",
      "/srv/conda/envs/notebook/lib/python3.7/site-packages/tensorflow/python/framework/dtypes.py:529: FutureWarning: Passing (type, 1) or '1type' as a synonym of type is deprecated; in a future version of numpy, it will be understood as (type, (1,)) / '(1,)type'.\n",
      "  _np_quint16 = np.dtype([(\"quint16\", np.uint16, 1)])\n",
      "/srv/conda/envs/notebook/lib/python3.7/site-packages/tensorflow/python/framework/dtypes.py:530: FutureWarning: Passing (type, 1) or '1type' as a synonym of type is deprecated; in a future version of numpy, it will be understood as (type, (1,)) / '(1,)type'.\n",
      "  _np_qint32 = np.dtype([(\"qint32\", np.int32, 1)])\n",
      "/srv/conda/envs/notebook/lib/python3.7/site-packages/tensorflow/python/framework/dtypes.py:535: FutureWarning: Passing (type, 1) or '1type' as a synonym of type is deprecated; in a future version of numpy, it will be understood as (type, (1,)) / '(1,)type'.\n",
      "  np_resource = np.dtype([(\"resource\", np.ubyte, 1)])\n"
     ]
    },
    {
     "data": {
      "text/html": [
       "        <script type=\"text/javascript\">\n",
       "        window.PlotlyConfig = {MathJaxConfig: 'local'};\n",
       "        if (window.MathJax) {MathJax.Hub.Config({SVG: {font: \"STIX-Web\"}});}\n",
       "        if (typeof require !== 'undefined') {\n",
       "        require.undef(\"plotly\");\n",
       "        requirejs.config({\n",
       "            paths: {\n",
       "                'plotly': ['https://cdn.plot.ly/plotly-latest.min']\n",
       "            }\n",
       "        });\n",
       "        require(['plotly'], function(Plotly) {\n",
       "            window._Plotly = Plotly;\n",
       "        });\n",
       "        }\n",
       "        </script>\n",
       "        "
      ]
     },
     "metadata": {},
     "output_type": "display_data"
    }
   ],
   "source": [
    "import pandas as pd\n",
    "import numpy as np\n",
    "import plotly\n",
    "import chart_studio.plotly as py\n",
    "import plotly.graph_objs as go\n",
    "\n",
    "from sklearn.model_selection import train_test_split\n",
    "from numpy import array\n",
    "from keras.models import Sequential\n",
    "from keras.layers import LSTM\n",
    "from keras.layers import Dense\n",
    "from keras.layers import Bidirectional\n",
    "plotly.offline.init_notebook_mode(connected=True)"
   ]
  },
  {
   "cell_type": "code",
   "execution_count": 4,
   "metadata": {},
   "outputs": [],
   "source": [
    "# Load BitCoin training data\n",
    "bitcoin_data = pd.read_csv('BitCoin.csv')"
   ]
  },
  {
   "cell_type": "code",
   "execution_count": 5,
   "metadata": {},
   "outputs": [
    {
     "name": "stdout",
     "output_type": "stream",
     "text": [
      "(10275, 8)\n"
     ]
    },
    {
     "data": {
      "text/html": [
       "<div>\n",
       "<style scoped>\n",
       "    .dataframe tbody tr th:only-of-type {\n",
       "        vertical-align: middle;\n",
       "    }\n",
       "\n",
       "    .dataframe tbody tr th {\n",
       "        vertical-align: top;\n",
       "    }\n",
       "\n",
       "    .dataframe thead th {\n",
       "        text-align: right;\n",
       "    }\n",
       "</style>\n",
       "<table border=\"1\" class=\"dataframe\">\n",
       "  <thead>\n",
       "    <tr style=\"text-align: right;\">\n",
       "      <th></th>\n",
       "      <th>Timestamp</th>\n",
       "      <th>Open</th>\n",
       "      <th>High</th>\n",
       "      <th>Low</th>\n",
       "      <th>Close</th>\n",
       "      <th>Volume_(BTC)</th>\n",
       "      <th>Volume_(Currency)</th>\n",
       "      <th>Weighted_Price</th>\n",
       "    </tr>\n",
       "  </thead>\n",
       "  <tbody>\n",
       "    <tr>\n",
       "      <th>0</th>\n",
       "      <td>1417411980</td>\n",
       "      <td>300.0</td>\n",
       "      <td>300.0</td>\n",
       "      <td>300.0</td>\n",
       "      <td>300.0</td>\n",
       "      <td>0.01</td>\n",
       "      <td>3.0</td>\n",
       "      <td>300.0</td>\n",
       "    </tr>\n",
       "    <tr>\n",
       "      <th>1</th>\n",
       "      <td>1417412040</td>\n",
       "      <td>300.0</td>\n",
       "      <td>300.0</td>\n",
       "      <td>300.0</td>\n",
       "      <td>300.0</td>\n",
       "      <td>0.01</td>\n",
       "      <td>3.0</td>\n",
       "      <td>300.0</td>\n",
       "    </tr>\n",
       "    <tr>\n",
       "      <th>2</th>\n",
       "      <td>1417412100</td>\n",
       "      <td>300.0</td>\n",
       "      <td>300.0</td>\n",
       "      <td>300.0</td>\n",
       "      <td>300.0</td>\n",
       "      <td>0.01</td>\n",
       "      <td>3.0</td>\n",
       "      <td>300.0</td>\n",
       "    </tr>\n",
       "    <tr>\n",
       "      <th>3</th>\n",
       "      <td>1417412160</td>\n",
       "      <td>300.0</td>\n",
       "      <td>300.0</td>\n",
       "      <td>300.0</td>\n",
       "      <td>300.0</td>\n",
       "      <td>0.01</td>\n",
       "      <td>3.0</td>\n",
       "      <td>300.0</td>\n",
       "    </tr>\n",
       "    <tr>\n",
       "      <th>4</th>\n",
       "      <td>1417412220</td>\n",
       "      <td>300.0</td>\n",
       "      <td>300.0</td>\n",
       "      <td>300.0</td>\n",
       "      <td>300.0</td>\n",
       "      <td>0.01</td>\n",
       "      <td>3.0</td>\n",
       "      <td>300.0</td>\n",
       "    </tr>\n",
       "  </tbody>\n",
       "</table>\n",
       "</div>"
      ],
      "text/plain": [
       "    Timestamp   Open   High    Low  Close  Volume_(BTC)  Volume_(Currency)  \\\n",
       "0  1417411980  300.0  300.0  300.0  300.0          0.01                3.0   \n",
       "1  1417412040  300.0  300.0  300.0  300.0          0.01                3.0   \n",
       "2  1417412100  300.0  300.0  300.0  300.0          0.01                3.0   \n",
       "3  1417412160  300.0  300.0  300.0  300.0          0.01                3.0   \n",
       "4  1417412220  300.0  300.0  300.0  300.0          0.01                3.0   \n",
       "\n",
       "   Weighted_Price  \n",
       "0           300.0  \n",
       "1           300.0  \n",
       "2           300.0  \n",
       "3           300.0  \n",
       "4           300.0  "
      ]
     },
     "execution_count": 5,
     "metadata": {},
     "output_type": "execute_result"
    }
   ],
   "source": [
    "print(bitcoin_data.shape)\n",
    "bitcoin_data.head()"
   ]
  },
  {
   "cell_type": "code",
   "execution_count": 6,
   "metadata": {},
   "outputs": [],
   "source": [
    "\n",
    "bitcoin_data['date'] = pd.to_datetime(bitcoin_data['Timestamp'],unit='s').dt.date\n",
    "grouped_data = bitcoin_data.groupby('date')\n",
    "real_price = grouped_data['Weighted_Price'].mean()"
   ]
  },
  {
   "cell_type": "code",
   "execution_count": 7,
   "metadata": {},
   "outputs": [
    {
     "data": {
      "application/vnd.plotly.v1+json": {
       "config": {
        "linkText": "Export to plot.ly",
        "plotlyServerURL": "https://plot.ly",
        "showLink": false
       },
       "data": [
        {
         "type": "scatter",
         "x": [
          "2014-12-01",
          "2014-12-02",
          "2014-12-03",
          "2014-12-04",
          "2014-12-06",
          "2014-12-08",
          "2014-12-10",
          "2014-12-12",
          "2014-12-18",
          "2015-01-08",
          "2015-01-13",
          "2015-01-14",
          "2015-01-15",
          "2015-01-16"
         ],
         "y": [
          366.7750677506775,
          375.94300130208336,
          377.8827013888899,
          377.99174311926606,
          378,
          375.0004255,
          379.25,
          366.0469562823528,
          342.5,
          291.66385192376765,
          260,
          176.0552373926395,
          162.56645734180466,
          193.40219459564744
         ]
        }
       ],
       "layout": {
        "autosize": true,
        "template": {
         "data": {
          "bar": [
           {
            "error_x": {
             "color": "#2a3f5f"
            },
            "error_y": {
             "color": "#2a3f5f"
            },
            "marker": {
             "line": {
              "color": "#E5ECF6",
              "width": 0.5
             }
            },
            "type": "bar"
           }
          ],
          "barpolar": [
           {
            "marker": {
             "line": {
              "color": "#E5ECF6",
              "width": 0.5
             }
            },
            "type": "barpolar"
           }
          ],
          "carpet": [
           {
            "aaxis": {
             "endlinecolor": "#2a3f5f",
             "gridcolor": "white",
             "linecolor": "white",
             "minorgridcolor": "white",
             "startlinecolor": "#2a3f5f"
            },
            "baxis": {
             "endlinecolor": "#2a3f5f",
             "gridcolor": "white",
             "linecolor": "white",
             "minorgridcolor": "white",
             "startlinecolor": "#2a3f5f"
            },
            "type": "carpet"
           }
          ],
          "choropleth": [
           {
            "colorbar": {
             "outlinewidth": 0,
             "ticks": ""
            },
            "type": "choropleth"
           }
          ],
          "contour": [
           {
            "colorbar": {
             "outlinewidth": 0,
             "ticks": ""
            },
            "colorscale": [
             [
              0,
              "#0d0887"
             ],
             [
              0.1111111111111111,
              "#46039f"
             ],
             [
              0.2222222222222222,
              "#7201a8"
             ],
             [
              0.3333333333333333,
              "#9c179e"
             ],
             [
              0.4444444444444444,
              "#bd3786"
             ],
             [
              0.5555555555555556,
              "#d8576b"
             ],
             [
              0.6666666666666666,
              "#ed7953"
             ],
             [
              0.7777777777777778,
              "#fb9f3a"
             ],
             [
              0.8888888888888888,
              "#fdca26"
             ],
             [
              1,
              "#f0f921"
             ]
            ],
            "type": "contour"
           }
          ],
          "contourcarpet": [
           {
            "colorbar": {
             "outlinewidth": 0,
             "ticks": ""
            },
            "type": "contourcarpet"
           }
          ],
          "heatmap": [
           {
            "colorbar": {
             "outlinewidth": 0,
             "ticks": ""
            },
            "colorscale": [
             [
              0,
              "#0d0887"
             ],
             [
              0.1111111111111111,
              "#46039f"
             ],
             [
              0.2222222222222222,
              "#7201a8"
             ],
             [
              0.3333333333333333,
              "#9c179e"
             ],
             [
              0.4444444444444444,
              "#bd3786"
             ],
             [
              0.5555555555555556,
              "#d8576b"
             ],
             [
              0.6666666666666666,
              "#ed7953"
             ],
             [
              0.7777777777777778,
              "#fb9f3a"
             ],
             [
              0.8888888888888888,
              "#fdca26"
             ],
             [
              1,
              "#f0f921"
             ]
            ],
            "type": "heatmap"
           }
          ],
          "heatmapgl": [
           {
            "colorbar": {
             "outlinewidth": 0,
             "ticks": ""
            },
            "colorscale": [
             [
              0,
              "#0d0887"
             ],
             [
              0.1111111111111111,
              "#46039f"
             ],
             [
              0.2222222222222222,
              "#7201a8"
             ],
             [
              0.3333333333333333,
              "#9c179e"
             ],
             [
              0.4444444444444444,
              "#bd3786"
             ],
             [
              0.5555555555555556,
              "#d8576b"
             ],
             [
              0.6666666666666666,
              "#ed7953"
             ],
             [
              0.7777777777777778,
              "#fb9f3a"
             ],
             [
              0.8888888888888888,
              "#fdca26"
             ],
             [
              1,
              "#f0f921"
             ]
            ],
            "type": "heatmapgl"
           }
          ],
          "histogram": [
           {
            "marker": {
             "colorbar": {
              "outlinewidth": 0,
              "ticks": ""
             }
            },
            "type": "histogram"
           }
          ],
          "histogram2d": [
           {
            "colorbar": {
             "outlinewidth": 0,
             "ticks": ""
            },
            "colorscale": [
             [
              0,
              "#0d0887"
             ],
             [
              0.1111111111111111,
              "#46039f"
             ],
             [
              0.2222222222222222,
              "#7201a8"
             ],
             [
              0.3333333333333333,
              "#9c179e"
             ],
             [
              0.4444444444444444,
              "#bd3786"
             ],
             [
              0.5555555555555556,
              "#d8576b"
             ],
             [
              0.6666666666666666,
              "#ed7953"
             ],
             [
              0.7777777777777778,
              "#fb9f3a"
             ],
             [
              0.8888888888888888,
              "#fdca26"
             ],
             [
              1,
              "#f0f921"
             ]
            ],
            "type": "histogram2d"
           }
          ],
          "histogram2dcontour": [
           {
            "colorbar": {
             "outlinewidth": 0,
             "ticks": ""
            },
            "colorscale": [
             [
              0,
              "#0d0887"
             ],
             [
              0.1111111111111111,
              "#46039f"
             ],
             [
              0.2222222222222222,
              "#7201a8"
             ],
             [
              0.3333333333333333,
              "#9c179e"
             ],
             [
              0.4444444444444444,
              "#bd3786"
             ],
             [
              0.5555555555555556,
              "#d8576b"
             ],
             [
              0.6666666666666666,
              "#ed7953"
             ],
             [
              0.7777777777777778,
              "#fb9f3a"
             ],
             [
              0.8888888888888888,
              "#fdca26"
             ],
             [
              1,
              "#f0f921"
             ]
            ],
            "type": "histogram2dcontour"
           }
          ],
          "mesh3d": [
           {
            "colorbar": {
             "outlinewidth": 0,
             "ticks": ""
            },
            "type": "mesh3d"
           }
          ],
          "parcoords": [
           {
            "line": {
             "colorbar": {
              "outlinewidth": 0,
              "ticks": ""
             }
            },
            "type": "parcoords"
           }
          ],
          "pie": [
           {
            "automargin": true,
            "type": "pie"
           }
          ],
          "scatter": [
           {
            "marker": {
             "colorbar": {
              "outlinewidth": 0,
              "ticks": ""
             }
            },
            "type": "scatter"
           }
          ],
          "scatter3d": [
           {
            "line": {
             "colorbar": {
              "outlinewidth": 0,
              "ticks": ""
             }
            },
            "marker": {
             "colorbar": {
              "outlinewidth": 0,
              "ticks": ""
             }
            },
            "type": "scatter3d"
           }
          ],
          "scattercarpet": [
           {
            "marker": {
             "colorbar": {
              "outlinewidth": 0,
              "ticks": ""
             }
            },
            "type": "scattercarpet"
           }
          ],
          "scattergeo": [
           {
            "marker": {
             "colorbar": {
              "outlinewidth": 0,
              "ticks": ""
             }
            },
            "type": "scattergeo"
           }
          ],
          "scattergl": [
           {
            "marker": {
             "colorbar": {
              "outlinewidth": 0,
              "ticks": ""
             }
            },
            "type": "scattergl"
           }
          ],
          "scattermapbox": [
           {
            "marker": {
             "colorbar": {
              "outlinewidth": 0,
              "ticks": ""
             }
            },
            "type": "scattermapbox"
           }
          ],
          "scatterpolar": [
           {
            "marker": {
             "colorbar": {
              "outlinewidth": 0,
              "ticks": ""
             }
            },
            "type": "scatterpolar"
           }
          ],
          "scatterpolargl": [
           {
            "marker": {
             "colorbar": {
              "outlinewidth": 0,
              "ticks": ""
             }
            },
            "type": "scatterpolargl"
           }
          ],
          "scatterternary": [
           {
            "marker": {
             "colorbar": {
              "outlinewidth": 0,
              "ticks": ""
             }
            },
            "type": "scatterternary"
           }
          ],
          "surface": [
           {
            "colorbar": {
             "outlinewidth": 0,
             "ticks": ""
            },
            "colorscale": [
             [
              0,
              "#0d0887"
             ],
             [
              0.1111111111111111,
              "#46039f"
             ],
             [
              0.2222222222222222,
              "#7201a8"
             ],
             [
              0.3333333333333333,
              "#9c179e"
             ],
             [
              0.4444444444444444,
              "#bd3786"
             ],
             [
              0.5555555555555556,
              "#d8576b"
             ],
             [
              0.6666666666666666,
              "#ed7953"
             ],
             [
              0.7777777777777778,
              "#fb9f3a"
             ],
             [
              0.8888888888888888,
              "#fdca26"
             ],
             [
              1,
              "#f0f921"
             ]
            ],
            "type": "surface"
           }
          ],
          "table": [
           {
            "cells": {
             "fill": {
              "color": "#EBF0F8"
             },
             "line": {
              "color": "white"
             }
            },
            "header": {
             "fill": {
              "color": "#C8D4E3"
             },
             "line": {
              "color": "white"
             }
            },
            "type": "table"
           }
          ]
         },
         "layout": {
          "annotationdefaults": {
           "arrowcolor": "#2a3f5f",
           "arrowhead": 0,
           "arrowwidth": 1
          },
          "coloraxis": {
           "colorbar": {
            "outlinewidth": 0,
            "ticks": ""
           }
          },
          "colorscale": {
           "diverging": [
            [
             0,
             "#8e0152"
            ],
            [
             0.1,
             "#c51b7d"
            ],
            [
             0.2,
             "#de77ae"
            ],
            [
             0.3,
             "#f1b6da"
            ],
            [
             0.4,
             "#fde0ef"
            ],
            [
             0.5,
             "#f7f7f7"
            ],
            [
             0.6,
             "#e6f5d0"
            ],
            [
             0.7,
             "#b8e186"
            ],
            [
             0.8,
             "#7fbc41"
            ],
            [
             0.9,
             "#4d9221"
            ],
            [
             1,
             "#276419"
            ]
           ],
           "sequential": [
            [
             0,
             "#0d0887"
            ],
            [
             0.1111111111111111,
             "#46039f"
            ],
            [
             0.2222222222222222,
             "#7201a8"
            ],
            [
             0.3333333333333333,
             "#9c179e"
            ],
            [
             0.4444444444444444,
             "#bd3786"
            ],
            [
             0.5555555555555556,
             "#d8576b"
            ],
            [
             0.6666666666666666,
             "#ed7953"
            ],
            [
             0.7777777777777778,
             "#fb9f3a"
            ],
            [
             0.8888888888888888,
             "#fdca26"
            ],
            [
             1,
             "#f0f921"
            ]
           ],
           "sequentialminus": [
            [
             0,
             "#0d0887"
            ],
            [
             0.1111111111111111,
             "#46039f"
            ],
            [
             0.2222222222222222,
             "#7201a8"
            ],
            [
             0.3333333333333333,
             "#9c179e"
            ],
            [
             0.4444444444444444,
             "#bd3786"
            ],
            [
             0.5555555555555556,
             "#d8576b"
            ],
            [
             0.6666666666666666,
             "#ed7953"
            ],
            [
             0.7777777777777778,
             "#fb9f3a"
            ],
            [
             0.8888888888888888,
             "#fdca26"
            ],
            [
             1,
             "#f0f921"
            ]
           ]
          },
          "colorway": [
           "#636efa",
           "#EF553B",
           "#00cc96",
           "#ab63fa",
           "#FFA15A",
           "#19d3f3",
           "#FF6692",
           "#B6E880",
           "#FF97FF",
           "#FECB52"
          ],
          "font": {
           "color": "#2a3f5f"
          },
          "geo": {
           "bgcolor": "white",
           "lakecolor": "white",
           "landcolor": "#E5ECF6",
           "showlakes": true,
           "showland": true,
           "subunitcolor": "white"
          },
          "hoverlabel": {
           "align": "left"
          },
          "hovermode": "closest",
          "mapbox": {
           "style": "light"
          },
          "paper_bgcolor": "white",
          "plot_bgcolor": "#E5ECF6",
          "polar": {
           "angularaxis": {
            "gridcolor": "white",
            "linecolor": "white",
            "ticks": ""
           },
           "bgcolor": "#E5ECF6",
           "radialaxis": {
            "gridcolor": "white",
            "linecolor": "white",
            "ticks": ""
           }
          },
          "scene": {
           "xaxis": {
            "backgroundcolor": "#E5ECF6",
            "gridcolor": "white",
            "gridwidth": 2,
            "linecolor": "white",
            "showbackground": true,
            "ticks": "",
            "zerolinecolor": "white"
           },
           "yaxis": {
            "backgroundcolor": "#E5ECF6",
            "gridcolor": "white",
            "gridwidth": 2,
            "linecolor": "white",
            "showbackground": true,
            "ticks": "",
            "zerolinecolor": "white"
           },
           "zaxis": {
            "backgroundcolor": "#E5ECF6",
            "gridcolor": "white",
            "gridwidth": 2,
            "linecolor": "white",
            "showbackground": true,
            "ticks": "",
            "zerolinecolor": "white"
           }
          },
          "shapedefaults": {
           "line": {
            "color": "#2a3f5f"
           }
          },
          "ternary": {
           "aaxis": {
            "gridcolor": "white",
            "linecolor": "white",
            "ticks": ""
           },
           "baxis": {
            "gridcolor": "white",
            "linecolor": "white",
            "ticks": ""
           },
           "bgcolor": "#E5ECF6",
           "caxis": {
            "gridcolor": "white",
            "linecolor": "white",
            "ticks": ""
           }
          },
          "title": {
           "x": 0.05
          },
          "xaxis": {
           "automargin": true,
           "gridcolor": "white",
           "linecolor": "white",
           "ticks": "",
           "title": {
            "standoff": 15
           },
           "zerolinecolor": "white",
           "zerolinewidth": 2
          },
          "yaxis": {
           "automargin": true,
           "gridcolor": "white",
           "linecolor": "white",
           "ticks": "",
           "title": {
            "standoff": 15
           },
           "zerolinecolor": "white",
           "zerolinewidth": 2
          }
         }
        },
        "xaxis": {
         "autorange": true,
         "range": [
          "2014-11-28 04:36:56.2589",
          "2015-01-18 19:23:03.7411"
         ],
         "type": "date"
        },
        "yaxis": {
         "autorange": true,
         "range": [
          146.69473287958016,
          395.1217244622245
         ],
         "type": "linear"
        }
       }
      },
      "image/png": "[encoded data removed]",
      "text/html": [
       "<div>\n",
       "        \n",
       "        \n",
       "            <div id=\"bb8fdce2-cfd1-4190-a2cf-e68442bc6cc1\" class=\"plotly-graph-div\" style=\"height:525px; width:100%;\"></div>\n",
       "            <script type=\"text/javascript\">\n",
       "                require([\"plotly\"], function(Plotly) {\n",
       "                    window.PLOTLYENV=window.PLOTLYENV || {};\n",
       "                    \n",
       "                if (document.getElementById(\"bb8fdce2-cfd1-4190-a2cf-e68442bc6cc1\")) {\n",
       "                    Plotly.newPlot(\n",
       "                        'bb8fdce2-cfd1-4190-a2cf-e68442bc6cc1',\n",
       "                        [{\"type\": \"scatter\", \"x\": [\"2014-12-01\", \"2014-12-02\", \"2014-12-03\", \"2014-12-04\", \"2014-12-06\", \"2014-12-08\", \"2014-12-10\", \"2014-12-12\", \"2014-12-18\", \"2015-01-08\", \"2015-01-13\", \"2015-01-14\", \"2015-01-15\", \"2015-01-16\"], \"y\": [366.7750677506775, 375.94300130208336, 377.8827013888899, 377.99174311926606, 378.0, 375.0004255, 379.25, 366.0469562823528, 342.5, 291.66385192376765, 260.0, 176.0552373926395, 162.56645734180466, 193.40219459564744]}],\n",
       "                        {\"template\": {\"data\": {\"bar\": [{\"error_x\": {\"color\": \"#2a3f5f\"}, \"error_y\": {\"color\": \"#2a3f5f\"}, \"marker\": {\"line\": {\"color\": \"#E5ECF6\", \"width\": 0.5}}, \"type\": \"bar\"}], \"barpolar\": [{\"marker\": {\"line\": {\"color\": \"#E5ECF6\", \"width\": 0.5}}, \"type\": \"barpolar\"}], \"carpet\": [{\"aaxis\": {\"endlinecolor\": \"#2a3f5f\", \"gridcolor\": \"white\", \"linecolor\": \"white\", \"minorgridcolor\": \"white\", \"startlinecolor\": \"#2a3f5f\"}, \"baxis\": {\"endlinecolor\": \"#2a3f5f\", \"gridcolor\": \"white\", \"linecolor\": \"white\", \"minorgridcolor\": \"white\", \"startlinecolor\": \"#2a3f5f\"}, \"type\": \"carpet\"}], \"choropleth\": [{\"colorbar\": {\"outlinewidth\": 0, \"ticks\": \"\"}, \"type\": \"choropleth\"}], \"contour\": [{\"colorbar\": {\"outlinewidth\": 0, \"ticks\": \"\"}, \"colorscale\": [[0.0, \"#0d0887\"], [0.1111111111111111, \"#46039f\"], [0.2222222222222222, \"#7201a8\"], [0.3333333333333333, \"#9c179e\"], [0.4444444444444444, \"#bd3786\"], [0.5555555555555556, \"#d8576b\"], [0.6666666666666666, \"#ed7953\"], [0.7777777777777778, \"#fb9f3a\"], [0.8888888888888888, \"#fdca26\"], [1.0, \"#f0f921\"]], \"type\": \"contour\"}], \"contourcarpet\": [{\"colorbar\": {\"outlinewidth\": 0, \"ticks\": \"\"}, \"type\": \"contourcarpet\"}], \"heatmap\": [{\"colorbar\": {\"outlinewidth\": 0, \"ticks\": \"\"}, \"colorscale\": [[0.0, \"#0d0887\"], [0.1111111111111111, \"#46039f\"], [0.2222222222222222, \"#7201a8\"], [0.3333333333333333, \"#9c179e\"], [0.4444444444444444, \"#bd3786\"], [0.5555555555555556, \"#d8576b\"], [0.6666666666666666, \"#ed7953\"], [0.7777777777777778, \"#fb9f3a\"], [0.8888888888888888, \"#fdca26\"], [1.0, \"#f0f921\"]], \"type\": \"heatmap\"}], \"heatmapgl\": [{\"colorbar\": {\"outlinewidth\": 0, \"ticks\": \"\"}, \"colorscale\": [[0.0, \"#0d0887\"], [0.1111111111111111, \"#46039f\"], [0.2222222222222222, \"#7201a8\"], [0.3333333333333333, \"#9c179e\"], [0.4444444444444444, \"#bd3786\"], [0.5555555555555556, \"#d8576b\"], [0.6666666666666666, \"#ed7953\"], [0.7777777777777778, \"#fb9f3a\"], [0.8888888888888888, \"#fdca26\"], [1.0, \"#f0f921\"]], \"type\": \"heatmapgl\"}], \"histogram\": [{\"marker\": {\"colorbar\": {\"outlinewidth\": 0, \"ticks\": \"\"}}, \"type\": \"histogram\"}], \"histogram2d\": [{\"colorbar\": {\"outlinewidth\": 0, \"ticks\": \"\"}, \"colorscale\": [[0.0, \"#0d0887\"], [0.1111111111111111, \"#46039f\"], [0.2222222222222222, \"#7201a8\"], [0.3333333333333333, \"#9c179e\"], [0.4444444444444444, \"#bd3786\"], [0.5555555555555556, \"#d8576b\"], [0.6666666666666666, \"#ed7953\"], [0.7777777777777778, \"#fb9f3a\"], [0.8888888888888888, \"#fdca26\"], [1.0, \"#f0f921\"]], \"type\": \"histogram2d\"}], \"histogram2dcontour\": [{\"colorbar\": {\"outlinewidth\": 0, \"ticks\": \"\"}, \"colorscale\": [[0.0, \"#0d0887\"], [0.1111111111111111, \"#46039f\"], [0.2222222222222222, \"#7201a8\"], [0.3333333333333333, \"#9c179e\"], [0.4444444444444444, \"#bd3786\"], [0.5555555555555556, \"#d8576b\"], [0.6666666666666666, \"#ed7953\"], [0.7777777777777778, \"#fb9f3a\"], [0.8888888888888888, \"#fdca26\"], [1.0, \"#f0f921\"]], \"type\": \"histogram2dcontour\"}], \"mesh3d\": [{\"colorbar\": {\"outlinewidth\": 0, \"ticks\": \"\"}, \"type\": \"mesh3d\"}], \"parcoords\": [{\"line\": {\"colorbar\": {\"outlinewidth\": 0, \"ticks\": \"\"}}, \"type\": \"parcoords\"}], \"pie\": [{\"automargin\": true, \"type\": \"pie\"}], \"scatter\": [{\"marker\": {\"colorbar\": {\"outlinewidth\": 0, \"ticks\": \"\"}}, \"type\": \"scatter\"}], \"scatter3d\": [{\"line\": {\"colorbar\": {\"outlinewidth\": 0, \"ticks\": \"\"}}, \"marker\": {\"colorbar\": {\"outlinewidth\": 0, \"ticks\": \"\"}}, \"type\": \"scatter3d\"}], \"scattercarpet\": [{\"marker\": {\"colorbar\": {\"outlinewidth\": 0, \"ticks\": \"\"}}, \"type\": \"scattercarpet\"}], \"scattergeo\": [{\"marker\": {\"colorbar\": {\"outlinewidth\": 0, \"ticks\": \"\"}}, \"type\": \"scattergeo\"}], \"scattergl\": [{\"marker\": {\"colorbar\": {\"outlinewidth\": 0, \"ticks\": \"\"}}, \"type\": \"scattergl\"}], \"scattermapbox\": [{\"marker\": {\"colorbar\": {\"outlinewidth\": 0, \"ticks\": \"\"}}, \"type\": \"scattermapbox\"}], \"scatterpolar\": [{\"marker\": {\"colorbar\": {\"outlinewidth\": 0, \"ticks\": \"\"}}, \"type\": \"scatterpolar\"}], \"scatterpolargl\": [{\"marker\": {\"colorbar\": {\"outlinewidth\": 0, \"ticks\": \"\"}}, \"type\": \"scatterpolargl\"}], \"scatterternary\": [{\"marker\": {\"colorbar\": {\"outlinewidth\": 0, \"ticks\": \"\"}}, \"type\": \"scatterternary\"}], \"surface\": [{\"colorbar\": {\"outlinewidth\": 0, \"ticks\": \"\"}, \"colorscale\": [[0.0, \"#0d0887\"], [0.1111111111111111, \"#46039f\"], [0.2222222222222222, \"#7201a8\"], [0.3333333333333333, \"#9c179e\"], [0.4444444444444444, \"#bd3786\"], [0.5555555555555556, \"#d8576b\"], [0.6666666666666666, \"#ed7953\"], [0.7777777777777778, \"#fb9f3a\"], [0.8888888888888888, \"#fdca26\"], [1.0, \"#f0f921\"]], \"type\": \"surface\"}], \"table\": [{\"cells\": {\"fill\": {\"color\": \"#EBF0F8\"}, \"line\": {\"color\": \"white\"}}, \"header\": {\"fill\": {\"color\": \"#C8D4E3\"}, \"line\": {\"color\": \"white\"}}, \"type\": \"table\"}]}, \"layout\": {\"annotationdefaults\": {\"arrowcolor\": \"#2a3f5f\", \"arrowhead\": 0, \"arrowwidth\": 1}, \"coloraxis\": {\"colorbar\": {\"outlinewidth\": 0, \"ticks\": \"\"}}, \"colorscale\": {\"diverging\": [[0, \"#8e0152\"], [0.1, \"#c51b7d\"], [0.2, \"#de77ae\"], [0.3, \"#f1b6da\"], [0.4, \"#fde0ef\"], [0.5, \"#f7f7f7\"], [0.6, \"#e6f5d0\"], [0.7, \"#b8e186\"], [0.8, \"#7fbc41\"], [0.9, \"#4d9221\"], [1, \"#276419\"]], \"sequential\": [[0.0, \"#0d0887\"], [0.1111111111111111, \"#46039f\"], [0.2222222222222222, \"#7201a8\"], [0.3333333333333333, \"#9c179e\"], [0.4444444444444444, \"#bd3786\"], [0.5555555555555556, \"#d8576b\"], [0.6666666666666666, \"#ed7953\"], [0.7777777777777778, \"#fb9f3a\"], [0.8888888888888888, \"#fdca26\"], [1.0, \"#f0f921\"]], \"sequentialminus\": [[0.0, \"#0d0887\"], [0.1111111111111111, \"#46039f\"], [0.2222222222222222, \"#7201a8\"], [0.3333333333333333, \"#9c179e\"], [0.4444444444444444, \"#bd3786\"], [0.5555555555555556, \"#d8576b\"], [0.6666666666666666, \"#ed7953\"], [0.7777777777777778, \"#fb9f3a\"], [0.8888888888888888, \"#fdca26\"], [1.0, \"#f0f921\"]]}, \"colorway\": [\"#636efa\", \"#EF553B\", \"#00cc96\", \"#ab63fa\", \"#FFA15A\", \"#19d3f3\", \"#FF6692\", \"#B6E880\", \"#FF97FF\", \"#FECB52\"], \"font\": {\"color\": \"#2a3f5f\"}, \"geo\": {\"bgcolor\": \"white\", \"lakecolor\": \"white\", \"landcolor\": \"#E5ECF6\", \"showlakes\": true, \"showland\": true, \"subunitcolor\": \"white\"}, \"hoverlabel\": {\"align\": \"left\"}, \"hovermode\": \"closest\", \"mapbox\": {\"style\": \"light\"}, \"paper_bgcolor\": \"white\", \"plot_bgcolor\": \"#E5ECF6\", \"polar\": {\"angularaxis\": {\"gridcolor\": \"white\", \"linecolor\": \"white\", \"ticks\": \"\"}, \"bgcolor\": \"#E5ECF6\", \"radialaxis\": {\"gridcolor\": \"white\", \"linecolor\": \"white\", \"ticks\": \"\"}}, \"scene\": {\"xaxis\": {\"backgroundcolor\": \"#E5ECF6\", \"gridcolor\": \"white\", \"gridwidth\": 2, \"linecolor\": \"white\", \"showbackground\": true, \"ticks\": \"\", \"zerolinecolor\": \"white\"}, \"yaxis\": {\"backgroundcolor\": \"#E5ECF6\", \"gridcolor\": \"white\", \"gridwidth\": 2, \"linecolor\": \"white\", \"showbackground\": true, \"ticks\": \"\", \"zerolinecolor\": \"white\"}, \"zaxis\": {\"backgroundcolor\": \"#E5ECF6\", \"gridcolor\": \"white\", \"gridwidth\": 2, \"linecolor\": \"white\", \"showbackground\": true, \"ticks\": \"\", \"zerolinecolor\": \"white\"}}, \"shapedefaults\": {\"line\": {\"color\": \"#2a3f5f\"}}, \"ternary\": {\"aaxis\": {\"gridcolor\": \"white\", \"linecolor\": \"white\", \"ticks\": \"\"}, \"baxis\": {\"gridcolor\": \"white\", \"linecolor\": \"white\", \"ticks\": \"\"}, \"bgcolor\": \"#E5ECF6\", \"caxis\": {\"gridcolor\": \"white\", \"linecolor\": \"white\", \"ticks\": \"\"}}, \"title\": {\"x\": 0.05}, \"xaxis\": {\"automargin\": true, \"gridcolor\": \"white\", \"linecolor\": \"white\", \"ticks\": \"\", \"title\": {\"standoff\": 15}, \"zerolinecolor\": \"white\", \"zerolinewidth\": 2}, \"yaxis\": {\"automargin\": true, \"gridcolor\": \"white\", \"linecolor\": \"white\", \"ticks\": \"\", \"title\": {\"standoff\": 15}, \"zerolinecolor\": \"white\", \"zerolinewidth\": 2}}}},\n",
       "                        {\"responsive\": true}\n",
       "                    ).then(function(){\n",
       "                            \n",
       "var gd = document.getElementById('bb8fdce2-cfd1-4190-a2cf-e68442bc6cc1');\n",
       "var x = new MutationObserver(function (mutations, observer) {{\n",
       "        var display = window.getComputedStyle(gd).display;\n",
       "        if (!display || display === 'none') {{\n",
       "            console.log([gd, 'removed!']);\n",
       "            Plotly.purge(gd);\n",
       "            observer.disconnect();\n",
       "        }}\n",
       "}});\n",
       "\n",
       "// Listen for the removal of the full notebook cells\n",
       "var notebookContainer = gd.closest('#notebook-container');\n",
       "if (notebookContainer) {{\n",
       "    x.observe(notebookContainer, {childList: true});\n",
       "}}\n",
       "\n",
       "// Listen for the clearing of the current output cell\n",
       "var outputEl = gd.closest('.output');\n",
       "if (outputEl) {{\n",
       "    x.observe(outputEl, {childList: true});\n",
       "}}\n",
       "\n",
       "                        })\n",
       "                };\n",
       "                });\n",
       "            </script>\n",
       "        </div>"
      ]
     },
     "metadata": {},
     "output_type": "display_data"
    }
   ],
   "source": [
    "data = [go.Scatter(x=real_price.index, y=real_price.values)]\n",
    "\n",
    "plotly.offline.iplot(data)"
   ]
  },
  {
   "cell_type": "code",
   "execution_count": 8,
   "metadata": {},
   "outputs": [],
   "source": [
    "def split_sequence(sequence, n_steps):\n",
    "\tX, y = list(), list()\n",
    "\tfor i in range(len(sequence)):\n",
    "\t\tend_ix = i + n_steps\n",
    "\t\tif end_ix > len(sequence)-1:\n",
    "\t\t\tbreak\n",
    "\t\tseq_x, seq_y = sequence[i:end_ix], sequence[end_ix]\n",
    "\t\tX.append(seq_x)\n",
    "\t\ty.append(seq_y)\n",
    "\treturn array(X), array(y)"
   ]
  },
  {
   "cell_type": "code",
   "execution_count": 9,
   "metadata": {},
   "outputs": [],
   "source": [
    "n_steps = 5\n",
    "\n",
    "# split into samples\n",
    "X, y = split_sequence(real_price.values, n_steps)\n",
    "\n",
    "# reshape from [samples, timesteps] into [samples, timesteps, features]\n",
    "n_features = 1\n",
    "X = X.reshape((X.shape[0], X.shape[1], n_features))\n",
    "\n",
    "# split into train - test set\n",
    "X_train = X[0:-365]\n",
    "y_train = y[0:-365]\n",
    "X_test = X[-365:]\n",
    "y_test = y[-365:]\n",
    "\n",
    "# store the test dates\n",
    "test_dates = real_price.index[-365:]"
   ]
  },
  {
   "cell_type": "code",
   "execution_count": 10,
   "metadata": {},
   "outputs": [],
   "source": [
    "def build_bidirectional_model(X, y):\n",
    "    # define model\n",
    "    model = Sequential()\n",
    "    model.add(Bidirectional(LSTM(50, activation='relu'), input_shape=(n_steps, n_features)))\n",
    "    model.add(Dense(1))\n",
    "    model.compile(optimizer='adam', loss='mse')\n",
    "    # fit model\n",
    "    model.fit(X, y, epochs=200, verbose=1)\n",
    "    return model"
   ]
  },
  {
   "cell_type": "code",
   "execution_count": 11,
   "metadata": {},
   "outputs": [
    {
     "name": "stdout",
     "output_type": "stream",
     "text": [
      "WARNING:tensorflow:From /srv/conda/envs/notebook/lib/python3.7/site-packages/tensorflow/python/framework/op_def_library.py:263: colocate_with (from tensorflow.python.framework.ops) is deprecated and will be removed in a future version.\n",
      "Instructions for updating:\n",
      "Colocations handled automatically by placer.\n",
      "WARNING:tensorflow:From /srv/conda/envs/notebook/lib/python3.7/site-packages/tensorflow/python/ops/math_ops.py:3066: to_int32 (from tensorflow.python.ops.math_ops) is deprecated and will be removed in a future version.\n",
      "Instructions for updating:\n",
      "Use tf.cast instead.\n",
      "Epoch 1/200\n",
      "9/9 [==============================] - 2s 182ms/step - loss: 140515.4688\n",
      "Epoch 2/200\n",
      "9/9 [==============================] - 0s 1ms/step - loss: 131840.6094\n",
      "Epoch 3/200\n",
      "9/9 [==============================] - 0s 7ms/step - loss: 120552.1953\n",
      "Epoch 4/200\n",
      "9/9 [==============================] - 0s 2ms/step - loss: 108997.0000\n",
      "Epoch 5/200\n",
      "9/9 [==============================] - 0s 1ms/step - loss: 98856.4531\n",
      "Epoch 6/200\n",
      "9/9 [==============================] - 0s 1ms/step - loss: 89132.1562\n",
      "Epoch 7/200\n",
      "9/9 [==============================] - 0s 6ms/step - loss: 82073.6641\n",
      "Epoch 8/200\n",
      "9/9 [==============================] - 0s 1ms/step - loss: 77288.8828\n",
      "Epoch 9/200\n",
      "9/9 [==============================] - 0s 2ms/step - loss: 72758.1328\n",
      "Epoch 10/200\n",
      "9/9 [==============================] - 0s 7ms/step - loss: 67489.6797\n",
      "Epoch 11/200\n",
      "9/9 [==============================] - 0s 2ms/step - loss: 62023.2344\n",
      "Epoch 12/200\n",
      "9/9 [==============================] - 0s 1ms/step - loss: 56862.7422\n",
      "Epoch 13/200\n",
      "9/9 [==============================] - 0s 7ms/step - loss: 50615.4219\n",
      "Epoch 14/200\n",
      "9/9 [==============================] - 0s 2ms/step - loss: 36766.8281\n",
      "Epoch 15/200\n",
      "9/9 [==============================] - 0s 1ms/step - loss: 31186.2715\n",
      "Epoch 16/200\n",
      "9/9 [==============================] - 0s 8ms/step - loss: 26936.8945\n",
      "Epoch 17/200\n",
      "9/9 [==============================] - 0s 2ms/step - loss: 20378.9727\n",
      "Epoch 18/200\n",
      "9/9 [==============================] - 0s 1ms/step - loss: 14778.8486\n",
      "Epoch 19/200\n",
      "9/9 [==============================] - 0s 8ms/step - loss: 11278.5547\n",
      "Epoch 20/200\n",
      "9/9 [==============================] - 0s 1ms/step - loss: 9022.5762\n",
      "Epoch 21/200\n",
      "9/9 [==============================] - 0s 8ms/step - loss: 7656.5913\n",
      "Epoch 22/200\n",
      "9/9 [==============================] - 0s 1ms/step - loss: 6498.8726\n",
      "Epoch 23/200\n",
      "9/9 [==============================] - 0s 1ms/step - loss: 4448.8867\n",
      "Epoch 24/200\n",
      "9/9 [==============================] - 0s 1ms/step - loss: 2236.7930\n",
      "Epoch 25/200\n",
      "9/9 [==============================] - 0s 8ms/step - loss: 1706.3944\n",
      "Epoch 26/200\n",
      "9/9 [==============================] - 0s 1ms/step - loss: 1517.4412\n",
      "Epoch 27/200\n",
      "9/9 [==============================] - 0s 1ms/step - loss: 1483.5885\n",
      "Epoch 28/200\n",
      "9/9 [==============================] - 0s 8ms/step - loss: 1339.8800\n",
      "Epoch 29/200\n",
      "9/9 [==============================] - 0s 1ms/step - loss: 1158.6272\n",
      "Epoch 30/200\n",
      "9/9 [==============================] - 0s 8ms/step - loss: 902.8079\n",
      "Epoch 31/200\n",
      "9/9 [==============================] - 0s 2ms/step - loss: 959.5190\n",
      "Epoch 32/200\n",
      "9/9 [==============================] - 0s 2ms/step - loss: 896.2875\n",
      "Epoch 33/200\n",
      "9/9 [==============================] - 0s 7ms/step - loss: 909.1765\n",
      "Epoch 34/200\n",
      "9/9 [==============================] - 0s 2ms/step - loss: 923.3852\n",
      "Epoch 35/200\n",
      "9/9 [==============================] - 0s 1ms/step - loss: 882.1926\n",
      "Epoch 36/200\n",
      "9/9 [==============================] - 0s 8ms/step - loss: 890.8683\n",
      "Epoch 37/200\n",
      "9/9 [==============================] - 0s 2ms/step - loss: 841.0583\n",
      "Epoch 38/200\n",
      "9/9 [==============================] - 0s 1ms/step - loss: 819.1581\n",
      "Epoch 39/200\n",
      "9/9 [==============================] - 0s 8ms/step - loss: 721.8250\n",
      "Epoch 40/200\n",
      "9/9 [==============================] - 0s 2ms/step - loss: 723.0359\n",
      "Epoch 41/200\n",
      "9/9 [==============================] - 0s 1ms/step - loss: 573.5472\n",
      "Epoch 42/200\n",
      "9/9 [==============================] - 0s 8ms/step - loss: 698.7662\n",
      "Epoch 43/200\n",
      "9/9 [==============================] - 0s 2ms/step - loss: 669.1302\n",
      "Epoch 44/200\n",
      "9/9 [==============================] - 0s 1ms/step - loss: 496.2632\n",
      "Epoch 45/200\n",
      "9/9 [==============================] - 0s 7ms/step - loss: 604.2598\n",
      "Epoch 46/200\n",
      "9/9 [==============================] - 0s 1ms/step - loss: 525.9747\n",
      "Epoch 47/200\n",
      "9/9 [==============================] - 0s 1ms/step - loss: 478.4666\n",
      "Epoch 48/200\n",
      "9/9 [==============================] - 0s 9ms/step - loss: 551.8345\n",
      "Epoch 49/200\n",
      "9/9 [==============================] - 0s 1ms/step - loss: 562.8819\n",
      "Epoch 50/200\n",
      "9/9 [==============================] - 0s 2ms/step - loss: 514.0762\n",
      "Epoch 51/200\n",
      "9/9 [==============================] - 0s 8ms/step - loss: 505.2232\n",
      "Epoch 52/200\n",
      "9/9 [==============================] - 0s 1ms/step - loss: 517.4288\n",
      "Epoch 53/200\n",
      "9/9 [==============================] - 0s 1ms/step - loss: 485.7419\n",
      "Epoch 54/200\n",
      "9/9 [==============================] - 0s 2ms/step - loss: 432.1271\n",
      "Epoch 55/200\n",
      "9/9 [==============================] - 0s 2ms/step - loss: 392.0470\n",
      "Epoch 56/200\n",
      "9/9 [==============================] - 0s 7ms/step - loss: 373.9108\n",
      "Epoch 57/200\n",
      "9/9 [==============================] - 0s 930us/step - loss: 374.3985\n",
      "Epoch 58/200\n",
      "9/9 [==============================] - 0s 831us/step - loss: 356.9756\n",
      "Epoch 59/200\n",
      "9/9 [==============================] - 0s 9ms/step - loss: 363.5741\n",
      "Epoch 60/200\n",
      "9/9 [==============================] - 0s 1ms/step - loss: 366.5919\n",
      "Epoch 61/200\n",
      "9/9 [==============================] - 0s 1ms/step - loss: 353.4967\n",
      "Epoch 62/200\n",
      "9/9 [==============================] - 0s 8ms/step - loss: 335.7100\n",
      "Epoch 63/200\n",
      "9/9 [==============================] - 0s 1ms/step - loss: 335.6776\n",
      "Epoch 64/200\n",
      "9/9 [==============================] - 0s 1ms/step - loss: 332.4047\n",
      "Epoch 65/200\n",
      "9/9 [==============================] - 0s 8ms/step - loss: 316.1715\n",
      "Epoch 66/200\n",
      "9/9 [==============================] - 0s 1ms/step - loss: 323.6068\n",
      "Epoch 67/200\n",
      "9/9 [==============================] - 0s 1ms/step - loss: 329.1208\n",
      "Epoch 68/200\n",
      "9/9 [==============================] - 0s 8ms/step - loss: 317.5978\n",
      "Epoch 69/200\n",
      "9/9 [==============================] - 0s 1ms/step - loss: 301.7698\n",
      "Epoch 70/200\n",
      "9/9 [==============================] - 0s 1ms/step - loss: 299.3527\n",
      "Epoch 71/200\n",
      "9/9 [==============================] - 0s 8ms/step - loss: 299.4239\n",
      "Epoch 72/200\n",
      "9/9 [==============================] - 0s 1ms/step - loss: 294.9803\n",
      "Epoch 73/200\n",
      "9/9 [==============================] - 0s 1ms/step - loss: 295.9130\n",
      "Epoch 74/200\n",
      "9/9 [==============================] - 0s 8ms/step - loss: 290.0714\n",
      "Epoch 75/200\n",
      "9/9 [==============================] - 0s 3ms/step - loss: 279.4417\n",
      "Epoch 76/200\n",
      "9/9 [==============================] - 0s 3ms/step - loss: 280.1976\n",
      "Epoch 77/200\n",
      "9/9 [==============================] - 0s 2ms/step - loss: 280.2379\n",
      "Epoch 78/200\n",
      "9/9 [==============================] - 0s 4ms/step - loss: 268.3553\n",
      "Epoch 79/200\n",
      "9/9 [==============================] - 0s 2ms/step - loss: 268.5350\n",
      "Epoch 80/200\n",
      "9/9 [==============================] - 0s 907us/step - loss: 271.0594\n",
      "Epoch 81/200\n",
      "9/9 [==============================] - 0s 1ms/step - loss: 263.1734\n",
      "Epoch 82/200\n",
      "9/9 [==============================] - 0s 1ms/step - loss: 255.7705\n",
      "Epoch 83/200\n",
      "9/9 [==============================] - 0s 1ms/step - loss: 254.8676\n",
      "Epoch 84/200\n",
      "9/9 [==============================] - 0s 8ms/step - loss: 254.2301\n",
      "Epoch 85/200\n",
      "9/9 [==============================] - 0s 1ms/step - loss: 245.9528\n",
      "Epoch 86/200\n",
      "9/9 [==============================] - 0s 1ms/step - loss: 247.4955\n",
      "Epoch 87/200\n",
      "9/9 [==============================] - 0s 8ms/step - loss: 246.3640\n",
      "Epoch 88/200\n",
      "9/9 [==============================] - 0s 995us/step - loss: 237.9643\n",
      "Epoch 89/200\n",
      "9/9 [==============================] - 0s 867us/step - loss: 234.8040\n",
      "Epoch 90/200\n",
      "9/9 [==============================] - 0s 9ms/step - loss: 235.4650\n",
      "Epoch 91/200\n",
      "9/9 [==============================] - 0s 1ms/step - loss: 229.1900\n",
      "Epoch 92/200\n",
      "9/9 [==============================] - 0s 1ms/step - loss: 226.7654\n",
      "Epoch 93/200\n",
      "9/9 [==============================] - 0s 8ms/step - loss: 224.6480\n",
      "Epoch 94/200\n",
      "9/9 [==============================] - 0s 1ms/step - loss: 221.0324\n",
      "Epoch 95/200\n",
      "9/9 [==============================] - 0s 1ms/step - loss: 220.2159\n",
      "Epoch 96/200\n",
      "9/9 [==============================] - 0s 8ms/step - loss: 218.0247\n",
      "Epoch 97/200\n",
      "9/9 [==============================] - 0s 1ms/step - loss: 212.5681\n",
      "Epoch 98/200\n",
      "9/9 [==============================] - 0s 1ms/step - loss: 210.6182\n",
      "Epoch 99/200\n",
      "9/9 [==============================] - 0s 8ms/step - loss: 208.9724\n",
      "Epoch 100/200\n",
      "9/9 [==============================] - 0s 1ms/step - loss: 205.1570\n",
      "Epoch 101/200\n",
      "9/9 [==============================] - 0s 1ms/step - loss: 205.0993\n",
      "Epoch 102/200\n",
      "9/9 [==============================] - 0s 8ms/step - loss: 203.7870\n",
      "Epoch 103/200\n",
      "9/9 [==============================] - 0s 3ms/step - loss: 199.2467\n",
      "Epoch 104/200\n",
      "9/9 [==============================] - 0s 2ms/step - loss: 196.7313\n",
      "Epoch 105/200\n",
      "9/9 [==============================] - 0s 5ms/step - loss: 194.3495\n",
      "Epoch 106/200\n",
      "9/9 [==============================] - 0s 2ms/step - loss: 189.6676\n",
      "Epoch 107/200\n",
      "9/9 [==============================] - 0s 2ms/step - loss: 188.2600\n",
      "Epoch 108/200\n",
      "9/9 [==============================] - 0s 3ms/step - loss: 189.2120\n",
      "Epoch 109/200\n",
      "9/9 [==============================] - 0s 7ms/step - loss: 184.7210\n",
      "Epoch 110/200\n",
      "9/9 [==============================] - 0s 2ms/step - loss: 186.3131\n",
      "Epoch 111/200\n",
      "9/9 [==============================] - 0s 1ms/step - loss: 181.3438\n",
      "Epoch 112/200\n",
      "9/9 [==============================] - 0s 6ms/step - loss: 177.2919\n",
      "Epoch 113/200\n",
      "9/9 [==============================] - 0s 2ms/step - loss: 176.9828\n",
      "Epoch 114/200\n",
      "9/9 [==============================] - 0s 1ms/step - loss: 173.2005\n",
      "Epoch 115/200\n",
      "9/9 [==============================] - 0s 7ms/step - loss: 171.4439\n",
      "Epoch 116/200\n",
      "9/9 [==============================] - 0s 2ms/step - loss: 168.9295\n",
      "Epoch 117/200\n",
      "9/9 [==============================] - 0s 2ms/step - loss: 167.3084\n",
      "Epoch 118/200\n",
      "9/9 [==============================] - 0s 1ms/step - loss: 166.0570\n",
      "Epoch 119/200\n",
      "9/9 [==============================] - 0s 6ms/step - loss: 161.2779\n",
      "Epoch 120/200\n",
      "9/9 [==============================] - 0s 2ms/step - loss: 162.5916\n",
      "Epoch 121/200\n",
      "9/9 [==============================] - 0s 1ms/step - loss: 157.8113\n",
      "Epoch 122/200\n",
      "9/9 [==============================] - 0s 7ms/step - loss: 159.5266\n",
      "Epoch 123/200\n",
      "9/9 [==============================] - 0s 2ms/step - loss: 158.1547\n",
      "Epoch 124/200\n",
      "9/9 [==============================] - 0s 1ms/step - loss: 152.4811\n",
      "Epoch 125/200\n",
      "9/9 [==============================] - 0s 8ms/step - loss: 149.7050\n",
      "Epoch 126/200\n",
      "9/9 [==============================] - 0s 1ms/step - loss: 147.7853\n",
      "Epoch 127/200\n",
      "9/9 [==============================] - 0s 2ms/step - loss: 147.1286\n",
      "Epoch 128/200\n",
      "9/9 [==============================] - 0s 7ms/step - loss: 143.7035\n",
      "Epoch 129/200\n",
      "9/9 [==============================] - 0s 1ms/step - loss: 141.6822\n",
      "Epoch 130/200\n",
      "9/9 [==============================] - 0s 2ms/step - loss: 140.4871\n",
      "Epoch 131/200\n",
      "9/9 [==============================] - 0s 8ms/step - loss: 138.0729\n",
      "Epoch 132/200\n",
      "9/9 [==============================] - 0s 2ms/step - loss: 135.0106\n",
      "Epoch 133/200\n",
      "9/9 [==============================] - 0s 1ms/step - loss: 135.9944\n",
      "Epoch 134/200\n",
      "9/9 [==============================] - 0s 7ms/step - loss: 133.8750\n",
      "Epoch 135/200\n",
      "9/9 [==============================] - 0s 1ms/step - loss: 130.6593\n",
      "Epoch 136/200\n",
      "9/9 [==============================] - 0s 1ms/step - loss: 128.3736\n",
      "Epoch 137/200\n",
      "9/9 [==============================] - 0s 1ms/step - loss: 126.5332\n",
      "Epoch 138/200\n",
      "9/9 [==============================] - 0s 7ms/step - loss: 124.2160\n",
      "Epoch 139/200\n",
      "9/9 [==============================] - 0s 2ms/step - loss: 123.6879\n",
      "Epoch 140/200\n",
      "9/9 [==============================] - 0s 2ms/step - loss: 121.3963\n",
      "Epoch 141/200\n",
      "9/9 [==============================] - 0s 7ms/step - loss: 120.5441\n",
      "Epoch 142/200\n",
      "9/9 [==============================] - 0s 1ms/step - loss: 119.7970\n",
      "Epoch 143/200\n",
      "9/9 [==============================] - 0s 1ms/step - loss: 116.3343\n",
      "Epoch 144/200\n",
      "9/9 [==============================] - 0s 8ms/step - loss: 117.2677\n",
      "Epoch 145/200\n",
      "9/9 [==============================] - 0s 1ms/step - loss: 113.7419\n",
      "Epoch 146/200\n",
      "9/9 [==============================] - 0s 2ms/step - loss: 112.5232\n",
      "Epoch 147/200\n",
      "9/9 [==============================] - 0s 8ms/step - loss: 112.1590\n",
      "Epoch 148/200\n",
      "9/9 [==============================] - 0s 1ms/step - loss: 110.4316\n",
      "Epoch 149/200\n",
      "9/9 [==============================] - 0s 1ms/step - loss: 106.5260\n",
      "Epoch 150/200\n",
      "9/9 [==============================] - 0s 8ms/step - loss: 107.9403\n",
      "Epoch 151/200\n",
      "9/9 [==============================] - 0s 1ms/step - loss: 105.7546\n",
      "Epoch 152/200\n",
      "9/9 [==============================] - 0s 2ms/step - loss: 102.3942\n",
      "Epoch 153/200\n",
      "9/9 [==============================] - 0s 7ms/step - loss: 102.5896\n",
      "Epoch 154/200\n",
      "9/9 [==============================] - 0s 2ms/step - loss: 100.5148\n",
      "Epoch 155/200\n",
      "9/9 [==============================] - 0s 1ms/step - loss: 98.1607\n",
      "Epoch 156/200\n",
      "9/9 [==============================] - 0s 7ms/step - loss: 98.1763\n",
      "Epoch 157/200\n",
      "9/9 [==============================] - 0s 1ms/step - loss: 95.4925\n",
      "Epoch 158/200\n",
      "9/9 [==============================] - 0s 1ms/step - loss: 96.3551\n",
      "Epoch 159/200\n",
      "9/9 [==============================] - 0s 9ms/step - loss: 95.7583\n",
      "Epoch 160/200\n",
      "9/9 [==============================] - 0s 1ms/step - loss: 92.0721\n",
      "Epoch 161/200\n",
      "9/9 [==============================] - 0s 1ms/step - loss: 90.8678\n",
      "Epoch 162/200\n",
      "9/9 [==============================] - 0s 8ms/step - loss: 92.2743\n",
      "Epoch 163/200\n",
      "9/9 [==============================] - 0s 2ms/step - loss: 91.8758\n",
      "Epoch 164/200\n",
      "9/9 [==============================] - 0s 1ms/step - loss: 87.4164\n",
      "Epoch 165/200\n",
      "9/9 [==============================] - 0s 8ms/step - loss: 87.2679\n",
      "Epoch 166/200\n",
      "9/9 [==============================] - 0s 1ms/step - loss: 84.7270\n",
      "Epoch 167/200\n",
      "9/9 [==============================] - 0s 1ms/step - loss: 87.4139\n",
      "Epoch 168/200\n",
      "9/9 [==============================] - 0s 1ms/step - loss: 83.1752\n",
      "Epoch 169/200\n",
      "9/9 [==============================] - 0s 7ms/step - loss: 84.9935\n",
      "Epoch 170/200\n",
      "9/9 [==============================] - 0s 2ms/step - loss: 78.2569\n",
      "Epoch 171/200\n",
      "9/9 [==============================] - 0s 1ms/step - loss: 84.3396\n",
      "Epoch 172/200\n",
      "9/9 [==============================] - 0s 7ms/step - loss: 78.6346\n",
      "Epoch 173/200\n",
      "9/9 [==============================] - 0s 1ms/step - loss: 83.6910\n",
      "Epoch 174/200\n",
      "9/9 [==============================] - 0s 1ms/step - loss: 74.9369\n",
      "Epoch 175/200\n",
      "9/9 [==============================] - 0s 1ms/step - loss: 81.2616\n",
      "Epoch 176/200\n",
      "9/9 [==============================] - 0s 8ms/step - loss: 75.5963\n",
      "Epoch 177/200\n",
      "9/9 [==============================] - 0s 1ms/step - loss: 76.6911\n",
      "Epoch 178/200\n",
      "9/9 [==============================] - 0s 2ms/step - loss: 72.7703\n",
      "Epoch 179/200\n",
      "9/9 [==============================] - 0s 1ms/step - loss: 73.0756\n",
      "Epoch 180/200\n",
      "9/9 [==============================] - 0s 6ms/step - loss: 69.1470\n",
      "Epoch 181/200\n",
      "9/9 [==============================] - 0s 1ms/step - loss: 71.6054\n",
      "Epoch 182/200\n",
      "9/9 [==============================] - 0s 1ms/step - loss: 68.9051\n",
      "Epoch 183/200\n",
      "9/9 [==============================] - 0s 2ms/step - loss: 68.8575\n",
      "Epoch 184/200\n",
      "9/9 [==============================] - 0s 6ms/step - loss: 66.2132\n",
      "Epoch 185/200\n",
      "9/9 [==============================] - 0s 1ms/step - loss: 63.9881\n",
      "Epoch 186/200\n",
      "9/9 [==============================] - 0s 2ms/step - loss: 62.9834\n",
      "Epoch 187/200\n",
      "9/9 [==============================] - 0s 7ms/step - loss: 65.0236\n",
      "Epoch 188/200\n",
      "9/9 [==============================] - 0s 2ms/step - loss: 61.4424\n",
      "Epoch 189/200\n",
      "9/9 [==============================] - 0s 2ms/step - loss: 63.2415\n",
      "Epoch 190/200\n",
      "9/9 [==============================] - 0s 2ms/step - loss: 58.9827\n",
      "Epoch 191/200\n",
      "9/9 [==============================] - 0s 6ms/step - loss: 61.1439\n",
      "Epoch 192/200\n",
      "9/9 [==============================] - 0s 1ms/step - loss: 57.6147\n",
      "Epoch 193/200\n",
      "9/9 [==============================] - 0s 1ms/step - loss: 58.6501\n",
      "Epoch 194/200\n",
      "9/9 [==============================] - 0s 7ms/step - loss: 57.0393\n",
      "Epoch 195/200\n",
      "9/9 [==============================] - 0s 2ms/step - loss: 55.1308\n",
      "Epoch 196/200\n",
      "9/9 [==============================] - 0s 1ms/step - loss: 56.3750\n",
      "Epoch 197/200\n",
      "9/9 [==============================] - 0s 1ms/step - loss: 56.8436\n",
      "Epoch 198/200\n",
      "9/9 [==============================] - 0s 6ms/step - loss: 52.9082\n",
      "Epoch 199/200\n",
      "9/9 [==============================] - 0s 2ms/step - loss: 52.7833\n",
      "Epoch 200/200\n",
      "9/9 [==============================] - 0s 2ms/step - loss: 52.8706\n"
     ]
    }
   ],
   "source": [
    "bidirectional_model = build_bidirectional_model(X, y)"
   ]
  },
  {
   "cell_type": "code",
   "execution_count": 12,
   "metadata": {},
   "outputs": [],
   "source": [
    "yhat = bidirectional_model.predict(X_test, verbose=0)"
   ]
  },
  {
   "cell_type": "code",
   "execution_count": null,
   "metadata": {},
   "outputs": [],
   "source": []
  }
 ],
 "metadata": {
  "kernelspec": {
   "display_name": "Python 3",
   "language": "python",
   "name": "python3"
  },
  "language_info": {
   "codemirror_mode": {
    "name": "ipython",
    "version": 3
   },
   "file_extension": ".py",
   "mimetype": "text/x-python",
   "name": "python",
   "nbconvert_exporter": "python",
   "pygments_lexer": "ipython3",
   "version": "3.7.6"
  }
 },
 "nbformat": 4,
 "nbformat_minor": 4
}
